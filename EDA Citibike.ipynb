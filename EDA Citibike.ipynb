{
 "cells": [
  {
   "cell_type": "markdown",
   "metadata": {},
   "source": [
    "This is notebook provides some exploratory data analysis on the dataset of bicycle trips of the Citibike network (https://www.citibikenyc.com/system-data). "
   ]
  },
  {
   "cell_type": "code",
   "execution_count": 71,
   "metadata": {
    "collapsed": false
   },
   "outputs": [
    {
     "name": "stdout",
     "output_type": "stream",
     "text": [
      "Requirement already satisfied (use --upgrade to upgrade): requests in c:\\users\\i5\\anaconda3\\lib\\site-packages\n"
     ]
    },
    {
     "name": "stderr",
     "output_type": "stream",
     "text": [
      "You are using pip version 8.1.2, however version 9.0.1 is available.\n",
      "You should consider upgrading via the 'python -m pip install --upgrade pip' command.\n"
     ]
    }
   ],
   "source": [
    "# Define a function for a quick installation procedure. \n",
    "import pip\n",
    "\n",
    "def install(package):\n",
    "   pip.main(['install', package])\n",
    "\n",
    "# Use like this for example: \n",
    "\n",
    "# install('requests') "
   ]
  },
  {
   "cell_type": "code",
   "execution_count": 1,
   "metadata": {
    "collapsed": true
   },
   "outputs": [],
   "source": [
    "# import the packages that we will be using. If not installed, use the function defined above.\n",
    "import numpy as np\n",
    "import pandas as pd\n",
    "import os as os\n",
    "import seaborn as sns\n",
    "import matplotlib.pyplot as plt\n",
    "import datetime\n",
    "import math"
   ]
  },
  {
   "cell_type": "code",
   "execution_count": 37,
   "metadata": {
    "collapsed": false
   },
   "outputs": [
    {
     "data": {
      "text/plain": [
       "tripduration                        int64\n",
       "starttime                          object\n",
       "stoptime                           object\n",
       "start station id                    int64\n",
       "start station name                 object\n",
       "start station latitude            float64\n",
       "start station longitude           float64\n",
       "end station id                      int64\n",
       "end station name                   object\n",
       "end station latitude              float64\n",
       "end station longitude             float64\n",
       "bikeid                              int64\n",
       "usertype                           object\n",
       "birth year                         object\n",
       "gender                              int64\n",
       "Starttime_formatted        datetime64[ns]\n",
       "Stoptime_formatted         datetime64[ns]\n",
       "dtype: object"
      ]
     },
     "execution_count": 37,
     "metadata": {},
     "output_type": "execute_result"
    }
   ],
   "source": [
    "# check data types for possible inaccurate type recognition\n",
    "data.dtypes"
   ]
  },
  {
   "cell_type": "markdown",
   "metadata": {},
   "source": [
    "Variable types seem to assume correct types, no need to force convert. "
   ]
  },
  {
   "cell_type": "code",
   "execution_count": 36,
   "metadata": {
    "collapsed": true
   },
   "outputs": [],
   "source": [
    "# recode the format of time from object (string) to datetime format\n",
    "data['Starttime_formatted'] = pd.to_datetime(data['starttime'])\n",
    "data['Stoptime_formatted'] = pd.to_datetime(data['stoptime'])"
   ]
  },
  {
   "cell_type": "code",
   "execution_count": 27,
   "metadata": {
    "collapsed": true
   },
   "outputs": [],
   "source": [
    "# This code segments reads all of the files which end with .csv. \n",
    "# It pressuposes that our current working directory is the folder with the files.\n",
    "# For demonstration purposes we will only read the first file (dataset of July 2013) since the whole dataset \n",
    "# takes up ~ 6 Gb of space and the analysis on the complete dataset is thus very time-consuming.\n",
    "data = pd.DataFrame()\n",
    "for file in os.listdir():\n",
    "    if file.endswith(\".csv\"):\n",
    "        data = pd.read_csv(file)\n",
    "        break"
   ]
  },
  {
   "cell_type": "code",
   "execution_count": 13,
   "metadata": {
    "collapsed": false
   },
   "outputs": [],
   "source": [
    "#this funciton selects data between two given timesets (in datetime.time format) and type of the day (weekday, weekend or unspecified)\n",
    "def selecttime(data, starttime, endtime, dayoftheweek = 'all'):\n",
    "# first calculate time of the day, in order to avoid recalculatin in each if statement\n",
    "    data['start_time_of_the_day'] = data['Starttime_formatted'].apply(lambda x: x.time())\n",
    "    data['stop_time_of_the_day'] = data['Stoptime_formatted'].apply(lambda x: x.time())\n",
    "    if dayoftheweek == 'weekday':\n",
    "        temp = data[ (data['start_time_of_the_day'] > starttime) \n",
    "                    &(data['stop_time_of_the_day'] < endtime)\n",
    "                    &(data['Starttime_formatted'].apply(lambda x: x.weekday() <5 ))]\n",
    "    else:\n",
    "        if dayoftheweek  == 'weekend':\n",
    "            temp = data[ (data['start_time_of_the_day'] > starttime) \n",
    "                    &(data['stop_time_of_the_day'] < endtime)\n",
    "                    &(data['Starttime_formatted'].apply(lambda x: x.weekday() > 5 ))]\n",
    "        else:\n",
    "            temp = data[ (data['start_time_of_the_day'] > starttime) \n",
    "                    &(data['stop_time_of_the_day'] < endtime)]\n",
    "    return temp\n",
    "\n",
    "\n",
    "# data is numpy array, return is the array of percentiles\n",
    "def plot_percentiles(data):\n",
    "    quantiles = np.percentile(data, np.arange(1,100,1))\n",
    "    g = sns.barplot(np.arange(1,100,1), quantiles)\n",
    "    g.set(xticklabels=[]) # remove ticks, otherwise they roll on each other\n",
    "    plt.show()\n",
    "    # Print 25th, 50th, 75th and 100th percentiles\n",
    "    print(np.percentile(data, np.arange(25,125,25)))\n",
    "\n",
    "# groups input data by the input key, calculates mean and plots the percentile distribution of mean, returns the array of the percentiles\n",
    "def plot_groupby_mean_percentiles(data, group_by, subject): \n",
    "    templist = []\n",
    "    temp = data.groupby(group_by)\n",
    "    for i in data[group_by].unique():\n",
    "        templist.append(temp.get_group(i)[subject].mean())\n",
    "    temparray = np.array(templist)\n",
    "    plot_percentiles(temparray)\n",
    "    return temparray\n",
    "    "
   ]
  },
  {
   "cell_type": "code",
   "execution_count": 14,
   "metadata": {
    "collapsed": false
   },
   "outputs": [
    {
     "data": {
      "image/png": "[encoded data removed]",
      "text/plain": [
       "<matplotlib.figure.Figure at 0x1ee6b629e10>"
      ]
     },
     "metadata": {},
     "output_type": "display_data"
    },
    {
     "name": "stdout",
     "output_type": "stream",
     "text": [
      "[  7.23333333e+00   1.16333333e+01   1.90000000e+01   1.04179167e+05]\n"
     ]
    },
    {
     "data": {
      "image/png": "[encoded data removed]",
      "text/plain": [
       "<matplotlib.figure.Figure at 0x1ee10bdbb70>"
      ]
     },
     "metadata": {},
     "output_type": "display_data"
    },
    {
     "name": "stdout",
     "output_type": "stream",
     "text": [
      "[    7.88333333    13.86666667    22.86666667  1820.11666667]\n"
     ]
    }
   ],
   "source": [
    "# Here we plot two graphs of tripduration percentile distribution for the weekdays and on weekends around the clock.\n",
    "# divide by 60 to get minutes\n",
    "plot_percentiles(selecttime(data, datetime.time(0,0,0), datetime.time(23,0,0), 'weekday')['tripduration'] /60) \n",
    "plot_percentiles(selecttime(data, datetime.time(0,0,0), datetime.time(23,0,0), 'weekend')['tripduration'] /60)\n"
   ]
  },
  {
   "cell_type": "markdown",
   "metadata": {},
   "source": [
    "We can see from the graphs, that while the distributions of tripduration on weekdays and weekends look laregely the same, the demonstrate some differences in absolute terms - for example, the mean value for tripduration on a weekday is 16 minutes, while the same indicator for weekends is 13.8. We can also notice that while the maximum value for tripduration on weekends is 1820 minutes (30 hours), on weekdays it reaches 104179 minutes (29 days), which might signify a very distant outlier or a mistake in the time logging system. Let us look at the 99th percentiles for both weekdays and weekends."
   ]
  },
  {
   "cell_type": "code",
   "execution_count": 15,
   "metadata": {
    "collapsed": false
   },
   "outputs": [
    {
     "name": "stdout",
     "output_type": "stream",
     "text": [
      "65.2166666667\n",
      "93.364\n"
     ]
    }
   ],
   "source": [
    "print(np.percentile(selecttime(data, datetime.time(0,0,0), datetime.time(23,0,0), 'weekday')['tripduration'] /60, 99))\n",
    "print(np.percentile(selecttime(data, datetime.time(0,0,0), datetime.time(23,0,0), 'weekend')['tripduration'] /60, 99))"
   ]
  },
  {
   "cell_type": "markdown",
   "metadata": {},
   "source": [
    "Here we see, that 99% of all trips on weekdays end before 66 minutes have elapsed, while 99% of all trips on weekends end before 94 minutes. This further demonstrates that the extreme figures of the maximum amount of time used are very much outliers."
   ]
  },
  {
   "cell_type": "markdown",
   "metadata": {},
   "source": [
    "We now group the dataset by bike id in order to see the distribution of usage of individual bicycles."
   ]
  },
  {
   "cell_type": "code",
   "execution_count": 16,
   "metadata": {
    "collapsed": false
   },
   "outputs": [],
   "source": [
    "bikes = data.groupby('bikeid')"
   ]
  },
  {
   "cell_type": "code",
   "execution_count": 26,
   "metadata": {
    "collapsed": false
   },
   "outputs": [
    {
     "data": {
      "image/png": "[encoded data removed]",
      "text/plain": [
       "<matplotlib.figure.Figure at 0x1ee08c61358>"
      ]
     },
     "metadata": {},
     "output_type": "display_data"
    },
    {
     "name": "stdout",
     "output_type": "stream",
     "text": [
      "[ 124.  162.  191.  309.]\n"
     ]
    }
   ],
   "source": [
    "# Here we plot the count, that is the amount of records in the dataset, which\n",
    "# translates to the amount of times that a bicycle was used.\n",
    "plot_percentiles(bikes['tripduration'].count())"
   ]
  },
  {
   "cell_type": "markdown",
   "metadata": {},
   "source": [
    "We see that the individual bycicles are used very much unevenly, with maximum being 309 and mean being 162 times. Keep in mind that we are only analyzing the data set of trips made in July 2013."
   ]
  },
  {
   "cell_type": "markdown",
   "metadata": {},
   "source": [
    "It poses interset to see the heatmap of the start and end location of trips with bikes."
   ]
  },
  {
   "cell_type": "code",
   "execution_count": 20,
   "metadata": {
    "collapsed": false
   },
   "outputs": [
    {
     "data": {
      "text/html": [
       "\n",
       "    <div class=\"bk-root\">\n",
       "        <a href=\"http://bokeh.pydata.org\" target=\"_blank\" class=\"bk-logo bk-logo-small bk-logo-notebook\"></a>\n",
       "        <span id=\"09a6f80d-5e40-41f5-8911-e773bc67f7ca\">Loading BokehJS ...</span>\n",
       "    </div>"
      ]
     },
     "metadata": {},
     "output_type": "display_data"
    },
    {
     "data": {
      "application/javascript": [
       "\n",
       "(function(global) {\n",
       "  function now() {\n",
       "    return new Date();\n",
       "  }\n",
       "\n",
       "  var force = \"1\";\n",
       "\n",
       "  if (typeof (window._bokeh_onload_callbacks) === \"undefined\" || force !== \"\") {\n",
       "    window._bokeh_onload_callbacks = [];\n",
       "    window._bokeh_is_loading = undefined;\n",
       "  }\n",
       "\n",
       "\n",
       "  \n",
       "  if (typeof (window._bokeh_timeout) === \"undefined\" || force !== \"\") {\n",
       "    window._bokeh_timeout = Date.now() + 5000;\n",
       "    window._bokeh_failed_load = false;\n",
       "  }\n",
       "\n",
       "  var NB_LOAD_WARNING = {'data': {'text/html':\n",
       "     \"<div style='background-color: #fdd'>\\n\"+\n",
       "     \"<p>\\n\"+\n",
       "     \"BokehJS does not appear to have successfully loaded. If loading BokehJS from CDN, this \\n\"+\n",
       "     \"may be due to a slow or bad network connection. Possible fixes:\\n\"+\n",
       "     \"</p>\\n\"+\n",
       "     \"<ul>\\n\"+\n",
       "     \"<li>re-rerun `output_notebook()` to attempt to load from CDN again, or</li>\\n\"+\n",
       "     \"<li>use INLINE resources instead, as so:</li>\\n\"+\n",
       "     \"</ul>\\n\"+\n",
       "     \"<code>\\n\"+\n",
       "     \"from bokeh.resources import INLINE\\n\"+\n",
       "     \"output_notebook(resources=INLINE)\\n\"+\n",
       "     \"</code>\\n\"+\n",
       "     \"</div>\"}};\n",
       "\n",
       "  function display_loaded() {\n",
       "    if (window.Bokeh !== undefined) {\n",
       "      Bokeh.$(\"#09a6f80d-5e40-41f5-8911-e773bc67f7ca\").text(\"BokehJS successfully loaded.\");\n",
       "    } else if (Date.now() < window._bokeh_timeout) {\n",
       "      setTimeout(display_loaded, 100)\n",
       "    }\n",
       "  }\n",
       "\n",
       "  function run_callbacks() {\n",
       "    window._bokeh_onload_callbacks.forEach(function(callback) { callback() });\n",
       "    delete window._bokeh_onload_callbacks\n",
       "    console.info(\"Bokeh: all callbacks have finished\");\n",
       "  }\n",
       "\n",
       "  function load_libs(js_urls, callback) {\n",
       "    window._bokeh_onload_callbacks.push(callback);\n",
       "    if (window._bokeh_is_loading > 0) {\n",
       "      console.log(\"Bokeh: BokehJS is being loaded, scheduling callback at\", now());\n",
       "      return null;\n",
       "    }\n",
       "    if (js_urls == null || js_urls.length === 0) {\n",
       "      run_callbacks();\n",
       "      return null;\n",
       "    }\n",
       "    console.log(\"Bokeh: BokehJS not loaded, scheduling load and callback at\", now());\n",
       "    window._bokeh_is_loading = js_urls.length;\n",
       "    for (var i = 0; i < js_urls.length; i++) {\n",
       "      var url = js_urls[i];\n",
       "      var s = document.createElement('script');\n",
       "      s.src = url;\n",
       "      s.async = false;\n",
       "      s.onreadystatechange = s.onload = function() {\n",
       "        window._bokeh_is_loading--;\n",
       "        if (window._bokeh_is_loading === 0) {\n",
       "          console.log(\"Bokeh: all BokehJS libraries loaded\");\n",
       "          run_callbacks()\n",
       "        }\n",
       "      };\n",
       "      s.onerror = function() {\n",
       "        console.warn(\"failed to load library \" + url);\n",
       "      };\n",
       "      console.log(\"Bokeh: injecting script tag for BokehJS library: \", url);\n",
       "      document.getElementsByTagName(\"head\")[0].appendChild(s);\n",
       "    }\n",
       "  };var element = document.getElementById(\"09a6f80d-5e40-41f5-8911-e773bc67f7ca\");\n",
       "  if (element == null) {\n",
       "    console.log(\"Bokeh: ERROR: autoload.js configured with elementid '09a6f80d-5e40-41f5-8911-e773bc67f7ca' but no matching script tag was found. \")\n",
       "    return false;\n",
       "  }\n",
       "\n",
       "  var js_urls = ['https://cdn.pydata.org/bokeh/release/bokeh-0.12.2.min.js', 'https://cdn.pydata.org/bokeh/release/bokeh-widgets-0.12.2.min.js', 'https://cdn.pydata.org/bokeh/release/bokeh-compiler-0.12.2.min.js'];\n",
       "\n",
       "  var inline_js = [\n",
       "    function(Bokeh) {\n",
       "      Bokeh.set_log_level(\"info\");\n",
       "    },\n",
       "    \n",
       "    function(Bokeh) {\n",
       "      \n",
       "      Bokeh.$(\"#09a6f80d-5e40-41f5-8911-e773bc67f7ca\").text(\"BokehJS is loading...\");\n",
       "    },\n",
       "    function(Bokeh) {\n",
       "      console.log(\"Bokeh: injecting CSS: https://cdn.pydata.org/bokeh/release/bokeh-0.12.2.min.css\");\n",
       "      Bokeh.embed.inject_css(\"https://cdn.pydata.org/bokeh/release/bokeh-0.12.2.min.css\");\n",
       "      console.log(\"Bokeh: injecting CSS: https://cdn.pydata.org/bokeh/release/bokeh-widgets-0.12.2.min.css\");\n",
       "      Bokeh.embed.inject_css(\"https://cdn.pydata.org/bokeh/release/bokeh-widgets-0.12.2.min.css\");\n",
       "    }\n",
       "  ];\n",
       "\n",
       "  function run_inline_js() {\n",
       "    \n",
       "    if ((window.Bokeh !== undefined) || (force === \"1\")) {\n",
       "      for (var i = 0; i < inline_js.length; i++) {\n",
       "        inline_js[i](window.Bokeh);\n",
       "      }if (force === \"1\") {\n",
       "        display_loaded();\n",
       "      }} else if (Date.now() < window._bokeh_timeout) {\n",
       "      setTimeout(run_inline_js, 100);\n",
       "    } else if (!window._bokeh_failed_load) {\n",
       "      console.log(\"Bokeh: BokehJS failed to load within specified timeout.\");\n",
       "      window._bokeh_failed_load = true;\n",
       "    } else if (!force) {\n",
       "      var cell = $(\"#09a6f80d-5e40-41f5-8911-e773bc67f7ca\").parents('.cell').data().cell;\n",
       "      cell.output_area.append_execute_result(NB_LOAD_WARNING)\n",
       "    }\n",
       "\n",
       "  }\n",
       "\n",
       "  if (window._bokeh_is_loading === 0) {\n",
       "    console.log(\"Bokeh: BokehJS loaded, going straight to plotting\");\n",
       "    run_inline_js();\n",
       "  } else {\n",
       "    load_libs(js_urls, function() {\n",
       "      console.log(\"Bokeh: BokehJS plotting callback run at\", now());\n",
       "      run_inline_js();\n",
       "    });\n",
       "  }\n",
       "}(this));"
      ]
     },
     "metadata": {},
     "output_type": "display_data"
    }
   ],
   "source": [
    "# Load the requried module for displaying the map. \n",
    "from bokeh.plotting import figure, output_notebook, show\n",
    "output_notebook()"
   ]
  },
  {
   "cell_type": "code",
   "execution_count": 21,
   "metadata": {
    "collapsed": false
   },
   "outputs": [],
   "source": [
    "NYC = x_range, y_range = ((-8242000,-8210000), (4965000,4990000))\n",
    "\n",
    "plot_width  = int(750)\n",
    "plot_height = int(plot_width//1.2)\n",
    "\n",
    "def base_plot(tools='pan,wheel_zoom,reset',plot_width=plot_width, plot_height=plot_height, **plot_args):\n",
    "    p = figure(tools=tools, plot_width=plot_width, plot_height=plot_height,\n",
    "        x_range=x_range, y_range=y_range, outline_line_color=None,\n",
    "        min_border=0, min_border_left=0, min_border_right=0,\n",
    "        min_border_top=0, min_border_bottom=0, **plot_args)\n",
    "    \n",
    "    p.axis.visible = False\n",
    "    p.xgrid.grid_line_color = None\n",
    "    p.ygrid.grid_line_color = None\n",
    "    return p\n",
    "    \n",
    "options = dict(line_color=None, fill_color='blue', size=5)"
   ]
  },
  {
   "cell_type": "code",
   "execution_count": 34,
   "metadata": {
    "collapsed": false
   },
   "outputs": [
    {
     "data": {
      "text/html": [
       "\n",
       "\n",
       "    <div class=\"bk-root\">\n",
       "        <div class=\"plotdiv\" id=\"c9b28732-dd31-47fd-932c-0376d88306d0\"></div>\n",
       "    </div>\n",
       "<script type=\"text/javascript\">\n",
       "  \n",
       "  (function(global) {\n",
       "    function now() {\n",
       "      return new Date();\n",
       "    }\n",
       "  \n",
       "    var force = \"\";\n",
       "  \n",
       "    if (typeof (window._bokeh_onload_callbacks) === \"undefined\" || force !== \"\") {\n",
       "      window._bokeh_onload_callbacks = [];\n",
       "      window._bokeh_is_loading = undefined;\n",
       "    }\n",
       "  \n",
       "  \n",
       "    \n",
       "    if (typeof (window._bokeh_timeout) === \"undefined\" || force !== \"\") {\n",
       "      window._bokeh_timeout = Date.now() + 0;\n",
       "      window._bokeh_failed_load = false;\n",
       "    }\n",
       "  \n",
       "    var NB_LOAD_WARNING = {'data': {'text/html':\n",
       "       \"<div style='background-color: #fdd'>\\n\"+\n",
       "       \"<p>\\n\"+\n",
       "       \"BokehJS does not appear to have successfully loaded. If loading BokehJS from CDN, this \\n\"+\n",
       "       \"may be due to a slow or bad network connection. Possible fixes:\\n\"+\n",
       "       \"</p>\\n\"+\n",
       "       \"<ul>\\n\"+\n",
       "       \"<li>re-rerun `output_notebook()` to attempt to load from CDN again, or</li>\\n\"+\n",
       "       \"<li>use INLINE resources instead, as so:</li>\\n\"+\n",
       "       \"</ul>\\n\"+\n",
       "       \"<code>\\n\"+\n",
       "       \"from bokeh.resources import INLINE\\n\"+\n",
       "       \"output_notebook(resources=INLINE)\\n\"+\n",
       "       \"</code>\\n\"+\n",
       "       \"</div>\"}};\n",
       "  \n",
       "    function display_loaded() {\n",
       "      if (window.Bokeh !== undefined) {\n",
       "        Bokeh.$(\"#c9b28732-dd31-47fd-932c-0376d88306d0\").text(\"BokehJS successfully loaded.\");\n",
       "      } else if (Date.now() < window._bokeh_timeout) {\n",
       "        setTimeout(display_loaded, 100)\n",
       "      }\n",
       "    }\n",
       "  \n",
       "    function run_callbacks() {\n",
       "      window._bokeh_onload_callbacks.forEach(function(callback) { callback() });\n",
       "      delete window._bokeh_onload_callbacks\n",
       "      console.info(\"Bokeh: all callbacks have finished\");\n",
       "    }\n",
       "  \n",
       "    function load_libs(js_urls, callback) {\n",
       "      window._bokeh_onload_callbacks.push(callback);\n",
       "      if (window._bokeh_is_loading > 0) {\n",
       "        console.log(\"Bokeh: BokehJS is being loaded, scheduling callback at\", now());\n",
       "        return null;\n",
       "      }\n",
       "      if (js_urls == null || js_urls.length === 0) {\n",
       "        run_callbacks();\n",
       "        return null;\n",
       "      }\n",
       "      console.log(\"Bokeh: BokehJS not loaded, scheduling load and callback at\", now());\n",
       "      window._bokeh_is_loading = js_urls.length;\n",
       "      for (var i = 0; i < js_urls.length; i++) {\n",
       "        var url = js_urls[i];\n",
       "        var s = document.createElement('script');\n",
       "        s.src = url;\n",
       "        s.async = false;\n",
       "        s.onreadystatechange = s.onload = function() {\n",
       "          window._bokeh_is_loading--;\n",
       "          if (window._bokeh_is_loading === 0) {\n",
       "            console.log(\"Bokeh: all BokehJS libraries loaded\");\n",
       "            run_callbacks()\n",
       "          }\n",
       "        };\n",
       "        s.onerror = function() {\n",
       "          console.warn(\"failed to load library \" + url);\n",
       "        };\n",
       "        console.log(\"Bokeh: injecting script tag for BokehJS library: \", url);\n",
       "        document.getElementsByTagName(\"head\")[0].appendChild(s);\n",
       "      }\n",
       "    };var element = document.getElementById(\"c9b28732-dd31-47fd-932c-0376d88306d0\");\n",
       "    if (element == null) {\n",
       "      console.log(\"Bokeh: ERROR: autoload.js configured with elementid 'c9b28732-dd31-47fd-932c-0376d88306d0' but no matching script tag was found. \")\n",
       "      return false;\n",
       "    }\n",
       "  \n",
       "    var js_urls = [];\n",
       "  \n",
       "    var inline_js = [\n",
       "      function(Bokeh) {\n",
       "        Bokeh.$(function() {\n",
       "            var docs_json = {\"da2fe853-edd2-4c6a-b141-99c33e4a2e5a\":{\"roots\":{\"references\":[{\"attributes\":{\"formatter\":{\"id\":\"19b9a847-f740-4c49-943a-f25cabef42bc\",\"type\":\"BasicTickFormatter\"},\"plot\":{\"id\":\"b3616afb-c17e-454c-8483-577e8a7b9d23\",\"subtype\":\"Figure\",\"type\":\"Plot\"},\"ticker\":{\"id\":\"a849eb9d-2ae3-489c-ae46-d85576c551ad\",\"type\":\"BasicTicker\"},\"visible\":false},\"id\":\"e048ef97-4e8d-4e3e-b305-5ec9a1fa866b\",\"type\":\"LinearAxis\"},{\"attributes\":{\"data_source\":{\"id\":\"48458940-60c3-4c06-8f9f-b3ff00e3ebc7\",\"type\":\"ColumnDataSource\"},\"glyph\":{\"id\":\"6e7e610d-5d9e-4fd1-a98c-9d4ac1e20d7a\",\"type\":\"Circle\"},\"hover_glyph\":null,\"nonselection_glyph\":{\"id\":\"df98648f-cde2-4507-9ea4-aa552cc8bf62\",\"type\":\"Circle\"},\"selection_glyph\":null},\"id\":\"f91c6504-de8d-440e-b52c-f5eadf8c8675\",\"type\":\"GlyphRenderer\"},{\"attributes\":{\"grid_line_color\":{\"value\":null},\"plot\":{\"id\":\"b3616afb-c17e-454c-8483-577e8a7b9d23\",\"subtype\":\"Figure\",\"type\":\"Plot\"},\"ticker\":{\"id\":\"ea4d3baa-1304-427e-a7f2-5315f9fcb7b8\",\"type\":\"BasicTicker\"}},\"id\":\"610e952a-a31d-4eb6-96dc-eaae26dea20b\",\"type\":\"Grid\"},{\"attributes\":{},\"id\":\"ea4d3baa-1304-427e-a7f2-5315f9fcb7b8\",\"type\":\"BasicTicker\"},{\"attributes\":{},\"id\":\"7ab081ad-9551-4249-8361-6a81965cd916\",\"type\":\"BasicTickFormatter\"},{\"attributes\":{\"callback\":null,\"column_names\":[\"y\",\"x\"],\"data\":{\"x\":[-74.00681753,-73.98631746,-74.00154702,-73.99973337,-73.98808416,-73.98789473,-73.97706058,-73.99456405,-74.00748842,-74.008119,-74.01322069,-73.97498696,-73.98915076,-73.99238967,-73.97434726,-73.99074142,-74.01322069,-73.97371465,-74.00197139,-73.99994661,-74.00937622,-74.00674436,-73.98291153,-73.99461843,-73.97634151,-74.00670227,-73.98316936,-73.99704374,-73.984844,-74.00653609,-73.99415556,-74.00674436,-73.97809472,-73.99009296,-73.98192338,-73.98713956,-73.97787642,-74.01658354,-74.00965965,-73.98320928,-73.98955109,-73.9979009,-73.97634151,-73.97668709,-73.97995466,-73.97031366,-73.98169333,-73.99009296,-73.97966069,-74.00803013,-73.98368779,-74.01658354,-74.00522600000001,-73.99723551,-73.99453948,-73.9900262,-74.000271,-73.97648516,-73.98368779,-73.97634151,-73.97121214,-73.99144871,-73.96986848,-74.00566443,-73.968896,-73.98024289,-73.96759673,-74.01234218,-73.9900262,-73.97798848,-73.97805813,-74.01020609,-73.98672378,-74.0021163,-73.98057249,-73.97121414,-73.99344559,-73.98683077,-73.98808416,-73.98426726,-73.98042047,-73.98788205,-73.97371465,-74.00711384,-74.000271,-73.99695094,-74.0026376103,-74.00522600000001,-73.99138152,-73.99667444,-74.00154702,-73.99301222,-73.98024289,-73.98855723,-74.01322069,-73.95928168,-74.00618026,-73.96759673,-74.00277668,-73.99994661,-73.99839279,-73.99973337,-73.98336183,-74.01427023,-74.00566443,-74.0026376103,-74.00618026,-73.97770164,-73.9916,-73.99238967,-73.98085795,-73.99144871,-73.986923,-73.99481051,-73.99138152,-74.00149746,-73.99014892,-73.98915076,-73.993934,-73.98978041,-74.00937622,-73.99906065,-73.98997825,-74.01713445,-73.98042047,-74.01322069,-73.9851615,-73.9907647,-74.0026376103,-73.98178024,-73.96024116,-73.97966069,-73.99200509,-73.95928168,-73.97966069,-73.98303529,-73.99392888,-74.00666661,-74.01575600000001,-73.96905301,-74.00838676,-73.98185424,-73.99069656,-73.99461843,-74.00748842,-74.01713445,-74.00674436,-74.00443172,-73.99704374,-73.99704679999999,-73.99415556,-73.99301222,-74.00149746,-73.98808416,-73.98085795,-74.00197139,-74.00197139,-74.00214988,-74.01658354,-74.00297088,-74.00530063,-74.00711384,-73.99973337,-73.98758561,-73.98142006,-74.00247214,-73.98683077,-73.99852205,-73.99009296,-73.99800419,-73.98990025,-74.0026376103,-73.99192540000001,-73.98442659,-73.99266288,-74.00859207,-73.9900262,-74.00149746,-73.99973337,-73.9900262,-73.98955109,-74.007756,-73.98085795,-74.01121978,-73.988038,-73.99529885,-73.98165557,-73.99098507,-73.99192540000001,-73.97604882,-74.000271,-74.00293877,-73.99098507,-73.96759673,-73.99093085,-74.01020609,-73.988038,-73.99344559,-73.98426726,-74.0090009,-73.99974372,-73.99974372,-73.96724467,-73.98142006,-73.99456405,-73.97634151,-74.00004031,-73.98631746,-73.9870295,-73.98672378,-74.00197139,-73.9813018,-74.00530063,-73.982578,-73.98721619,-73.99074142,-74.00618026,-73.9779874,-74.00711384,-73.99301222,-74.00443172,-74.00004031,-73.98713956,-73.9870295,-74.00566443,-73.99456405,-73.9916,-73.98672378,-73.99612349,-73.98024289,-74.00926027,-74.00214988,-73.99337909,-74.007756,-73.97973776,-73.97966069,-74.00197139,-74.00293877,-73.98997825,-73.988038,-74.01020234,-73.99704679999999,-74.00666661,-73.98631746,-73.98409214,-73.99190759,-73.99074142,-73.98165557,-73.99266288,-73.98658032,-73.99074142,-73.989111,-73.98564945,-73.98517977,-74.013012,-73.99372222,-74.004704,-73.97498696,-74.01121978,-74.01713445,-74.00293877,-73.98473765,-73.99726235,-74.00681753,-73.986923,-73.9916,-73.9779874,-73.98320928,-73.993915,-73.97798848,-73.99931783,-74.00443172,-73.97344190000001,-73.97632328,-73.98271933,-73.95920622,-74.00366443,-73.99723551,-74.00666661,-73.98291153,-73.98758561,-74.01361706,-73.99852205,-73.97344190000001,-73.98368779,-73.98320928,-73.99810231,-74.00149746,-73.98303529,-74.01575600000001,-73.97772429,-73.97668709,-73.98057249,-74.00443172,-73.98564945,-73.99456405,-74.00451887,-73.9907647,-73.98517977,-73.99453948,-73.97371465,-73.99973337,-74.00612572,-73.97668709,-73.98915076,-73.99238967,-73.97207836,-73.97634151,-73.97772429,-73.98855723,-73.96536851,-73.99372222,-73.98261206,-74.00234737,-74.00550867,-73.99144871,-74.01121978,-73.99704374,-73.98368779,-73.99266288,-73.99215922,-74.01713445,-73.9851615,-73.9796772,-73.96905301,-73.993934,-74.01121978,-73.97722479,-74.007756,-73.97032517,-73.99074142,-73.97809472,-74.00004031,-73.98268129,-73.99720307,-73.98291153,-73.99884222,-73.98859651,-73.98658032,-73.99851193,-73.97350332,-74.01427023,-73.98889957,-73.98194829,-73.978311,-73.9907647,-74.00618026,-74.00666661,-74.00234482,-74.00552427,-73.98889957,-73.98963911,-74.00530063,-73.98057249,-73.97536082,-74.00711384,-74.0104554,-74.008119,-73.99158043,-74.00838676,-73.99422366,-73.98802084,-73.9900262,-73.99238967,-73.99138152,-73.98658032,-73.98997825,-73.98789473,-73.99337909,-73.99839279,-73.9907647,-73.9851615,-73.99138152,-73.99667444,-73.98338988,-74.00154702,-73.96592976,-74.01020234,-73.97722479,-73.98194829,-73.98789473,-73.98765428,-73.96905301,-73.98683077,-73.99461843,-74.00653609,-74.00566443,-74.0046073,-73.98855723,-73.98165557,-73.99147535,-74.0046073,-73.97422494,-73.96724467,-73.98268129,-73.99383605,-73.982578,-73.97207836,-73.99190759,-73.99093085,-73.99612349,-73.97434726,-74.01658354,-74.01713445,-73.98859651,-74.00026394,-73.98788205,-73.98410637,-74.01322069,-74.007756,-73.98442659,-74.00293877,-74.00711384,-73.99372222,-73.99415556,-73.98783413,-74.00149746,-74.00176802,-73.99238967,-74.00154702,-73.98776323,-74.00803013,-73.993915,-73.98789473,-74.00670227,-73.97634151,-73.99400398,-74.00550867,-74.01121978,-73.99704374,-73.98564945,-73.99720307,-74.01427023,-73.99392888,-74.00443172,-73.98185424,-73.98442659,-74.007756,-74.01322069,-73.9647628,-73.98978041,-73.99379025,-73.98024289,-73.9907647,-73.9979009,-73.99372222,-74.00234737,-74.01043382,-73.99061728,-73.98426726,-73.99973337,-73.98042047,-73.99973337,-73.993915,-73.98368779,-74.00149746,-73.98517977,-73.9851615,-73.97434726,-74.008119,-74.01043382,-73.97973776,-73.960876,-74.00293877,-73.95928168,-73.98955109,-73.98997825,-73.97770164,-73.97371465,-73.99069656,-74.00859207,-73.98631746,-74.01713445,-73.99704374,-73.97634151,-73.99147535,-73.97768752,-73.98978041,-73.98338988,-74.00176802,-73.99404649,-73.96724467,-73.97634151,-73.97995466,-73.97573881,-73.98915076,-73.98014437,-73.99144871,-74.01713445,-73.98329859,-73.98194829,-73.97493121,-73.99695094,-73.99884222,-73.98955109,-73.99973337,-73.99529885,-73.99061728,-74.00666661,-74.00451887,-73.99266288,-73.98490707,-73.98185424,-73.98291153,-74.00838676,-73.98057249,-73.99800419,-73.99344559,-73.96784384,-74.00666661,-74.004704,-73.97973776,-74.00731853,-73.971878855,-73.99192540000001,-73.97798848,-74.00277668,-73.98683077,-73.98713956,-74.00297088,-73.9979009,-73.9900262,-73.99422366,-73.98859651,-73.99695094,-74.01020234,-73.97648516,-73.97355569,-73.968896,-73.98859651,-73.99147535,-73.9900262,-73.98185424,-73.98169333,-73.99009296,-74.01361706,-74.00277668,-73.99074142,-74.01322069,-73.96319799999999,-73.98016555,-74.01677685,-74.01427023,-74.00197139,-73.98978041,-73.98165557,-73.99572140000001,-73.986923,-74.00803013,-74.01575600000001,-73.98808416,-73.98683077,-74.00451887,-73.97770164,-73.989111,-74.007756,-73.98165557,-73.9907647,-74.00583475,-73.99074142,-73.98713956,-73.99009296,-73.97634151,-74.00670227,-73.98014437,-73.97798848,-74.00154702,-73.98788205,-73.9912551,-73.99372222,-73.99973337,-73.98564945,-74.00731853,-73.99481051,-74.00277668,-74.00530063,-73.99704374,-73.97350332,-74.00838676,-74.00666661,-74.01020234,-73.97121214,-73.99949601,-73.98808416,-74.00803013,-73.96563307,-73.99810231,-74.01713445,-73.98658032,-74.00666661,-74.00803013,-73.98379855,-74.00293877,-73.97798848,-73.98753523,-73.99400398,-73.99400398,-74.01658354,-74.01020609,-73.99915362,-73.988038,-73.97434726,-73.98776323,-74.00247214,-73.98192338,-73.99238967,-74.00247214,-73.98473765,-73.99193043,-74.00583475,-73.99138152,-73.98205027,-73.97121214,-73.98789473,-73.99480012,-73.97536082,-74.00026394,-74.00443172,-74.00277668,-74.00926027,-73.98178024,-73.97798848,-73.98368779,-74.01322069,-74.00937622,-74.00149746,-74.0090009,-73.9916,-73.98085795,-73.99144871,-73.99144871,-73.97632328,-73.99379025,-73.99009296,-73.989111,-73.9907647,-73.98191841,-73.98268129,-74.00214988,-73.99800419,-73.97805813,-73.99704679999999,-74.00666661,-74.01043382,-74.00612572,-74.00803013,-73.99190759,-74.01361706,-73.97371465,-73.990214,-73.99667444,-74.00366443,-73.98042047,-73.98783413,-73.98191841,-73.99480012,-73.96724467,-73.97207836,-74.00443172,-73.97402311,-73.97574813,-73.99093085,-73.97966069,-73.98789473,-73.98410637,-73.98672378,-73.98848395,-74.013012,-73.99612349,-73.98783413,-74.008119,-74.01043382,-73.97770164,-73.9907647,-73.96724467,-73.98316936,-73.993934,-74.0127234,-73.97973776,-73.97350332,-74.00674436,-73.99379025,-74.007756,-74.008119,-74.01713445,-73.97371465,-73.98191841,-74.0127234,-74.01020234,-74.00154702,-73.960876,-74.01658354,-73.98690506,-73.97628939,-74.00197139,-74.00451887,-74.00666661,-74.008119,-74.01322069,-73.97344190000001,-73.9900262,-73.98658032,-74.00859207,-73.98409214,-74.00247214,-73.98336183,-73.98690506,-74.01322069,-73.99931783,-73.99726235,-74.00366443,-74.01713445,-73.98057249,-73.99723551,-74.01043382,-73.98912867,-73.99906065,-73.9779874,-74.00550867,-73.98169333,-73.99138152,-74.01658354,-73.98185424,-73.98316936,-73.96922273,-73.98889957,-74.01361706,-74.00277668,-74.007756,-73.99190759,-73.98336183,-73.98912867,-73.99383605,-73.99704679999999,-73.99852205,-74.008119,-74.01658354,-73.97895137,-73.98316936,-73.97770164,-73.98658032,-74.0021163,-73.98758561,-73.967416,-73.99392888,-73.9912551,-73.99839279,-73.99009296,-73.99510132,-73.99301222,-73.98713956,-74.01322069,-73.991218,-73.99422366,-73.9851615,-73.996375,-73.99093085,-73.98631746,-73.99404649,-74.007756,-73.97680600000001,-73.97344190000001,-73.97634151,-73.95381995,-74.01427023,-73.98978041,-73.99074142,-73.97372989,-74.01427023,-74.01575600000001,-73.988639,-73.97770164,-73.99144871,-73.98194829,-74.00483091,-73.99852205,-73.96319799999999,-73.97434726,-73.99851193,-73.98564945,-74.00583475,-74.01361706,-73.99915362,-74.00366443,-74.004704,-73.98320928,-74.00612572,-73.99997859999999,-73.97966069,-74.00026394,-74.01322069,-73.99481051,-73.98751968,-74.00803013,-73.99510132,-73.99372222,-73.97722479,-73.99726235,-74.01322069,-73.99266288,-73.98978041,-74.01043382,-73.98336183,-74.00926027,-73.96724467,-73.98042047,-73.97371465,-73.97121214,-73.98024289,-73.98517977,-74.01427023,-73.993934,-73.98473765,-74.01322069,-73.98889957,-73.97772429,-73.97350332,-74.00297088,-73.97895137,-73.98191841,-74.01677685,-73.98915076,-74.01322069,-73.99997859999999,-74.01322069,-73.99548059,-73.981013,-73.97706058,-74.00293877,-73.98205027,-73.99415556,-73.98291153,-73.96986848,-73.99372222,-74.00711384,-73.99266288,-74.00681753,-74.007756,-73.97121214,-73.97207836,-73.99800419,-73.99093085,-73.988038,-73.98016555,-74.00234737,-73.97632328,-73.98940236,-73.99704374,-73.98191841,-73.98303529,-73.99695094,-73.99481051,-73.97722479,-73.99915362,-74.0090009,-74.01677685,-74.0026376103,-73.98940236,-73.98955109,-73.96784384,-73.98912867,-73.99461843,-73.978474,-74.01658354,-74.00154702,-73.99415556,-73.978474,-74.00803013,-73.9779874,-73.96759673,-73.97772429,-73.98713956,-74.007756,-73.99974372,-73.98631746,-74.008119,-74.00711384,-73.99481051,-74.0026376103,-74.00234482,-74.00612572,-73.98165557,-73.98192338,-73.99461843,-73.9779874,-73.99915362,-73.99200509,-73.97344190000001,-73.98362464,-73.98191841,-73.98024289,-74.01020609,-73.97809472,-73.99061728,-73.99480012,-74.00197139,-73.98320928,-74.0021163,-73.9870295,-73.99852205,-74.007756,-73.96834101,-74.00674436,-73.9979009,-73.99415556,-73.99915362,-73.99461843,-74.00612572,-73.98672378,-73.97032517,-73.97722479,-73.99301222,-74.004704,-73.99200509,-73.99931783,-73.99147535,-73.98057249,-73.98336183,-73.98656928,-74.00366443,-74.00771779,-73.98320928,-73.97805813,-74.00522600000001,-73.99800419,-73.98024289,-74.00666661,-74.01043382,-73.98955109,-73.98169333,-73.96724467,-73.98291153,-73.99510132,-74.0091059,-74.00297088,-73.99704679999999,-73.98268129,-73.981013,-73.98336183,-73.99884222,-74.00247214,-73.986923,-74.01020234,-73.98765428,-73.98042047,-73.99009296,-73.98915076,-74.00681753,-73.96478473,-73.989111,-73.97787642,-73.96724467,-74.00711384,-73.98683077,-73.97344190000001,-73.99720307,-74.01043382,-73.98656928,-73.97722479,-73.978474,-73.99726235,-74.01427023,-73.97973776,-73.99481051,-73.98915076,-73.97536082,-73.96724467,-74.00731853,-74.00666661,-73.99383605,-73.98192338,-73.99200509,-74.01713445,-73.99200509,-73.9779874,-73.9851615,-73.98165557,-73.99379025,-74.0046073,-73.98517977,-73.99453948,-73.98261206,-74.00887308,-74.01121978,-73.98955109,-73.99147535,-73.99009296,-74.013012,-74.00748842,-73.96536851,-73.99061728,-73.99061728,-73.991218,-73.98024289,-74.00149746,-74.00552427,-74.00293877,-74.00887308,-74.00965965,-74.00748842],\"y\":[40.74334935,40.69236178,40.72490985,40.71910537,40.74854862,40.76461837,40.74290902,40.73971301,40.72873888,40.739323,40.71754834,40.75510267,40.742354299999995,40.73726186,40.74315566,40.73454567,40.71754834,40.764397100000004,40.7454973,40.73781509,40.71336124,40.73172428,40.7568001,40.76009437,40.76590936,40.70355377,40.75527307,40.73649403,40.713126,40.70955958,40.74173969,40.73172428,40.736502,40.73704984,40.7652654,40.7284186,40.75795248,40.715337899999994,40.72405549,40.74147286,40.740343200000005,40.75660359,40.76590936,40.72228087,40.72299208,40.75968085,40.76695317,40.73704984,40.74394314,40.74195138,40.72217444,40.715337899999994,40.751396,40.74734825,40.73543934,40.75640548,40.735238,40.75992262,40.72217444,40.76590936,40.744219,40.74395411,40.69794,40.72243797,40.693261,40.73416059,40.75934501,40.70122128,40.75640548,40.75149263,40.68528172,40.72043411,40.73047309,40.75594159,40.72955361,40.75022392,40.69760127,40.7451677,40.74854862,40.72953837,40.7606597,40.76227205,40.764397100000004,40.73291553,40.735238,40.72679454,40.7390169121,40.751396,40.75466591,40.76341379,40.72490985,40.76269882,40.73416059,40.7462009,40.71754834,40.68676793,40.73652889,40.75934501,40.76087502,40.73781509,40.750072700000004,40.71910537,40.76228826,40.70251526,40.72243797,40.7390169121,40.73652889,40.75188406,40.749156,40.73726186,40.720873600000004,40.74395411,40.734232,40.75044999,40.75466591,40.74177603,40.69597683,40.742354299999995,40.751551,40.726280700000004,40.71336124,40.73047747,40.72019576,40.70834698,40.7606597,40.71754834,40.76370739,40.73028666,40.7390169121,40.71926081,40.71534825,40.74394314,40.73492695,40.68676793,40.74394314,40.74444921,40.76727216,40.71911552,40.711512,40.75001986,40.703799200000006,40.72453734,40.72502876,40.76009437,40.72873888,40.70834698,40.73172428,40.74206539,40.73649403,40.71413089,40.74173969,40.76269882,40.74177603,40.74854862,40.720873600000004,40.7454973,40.7454973,40.73038599,40.715337899999994,40.72710258,40.70823502,40.73291553,40.71910537,40.73524276,40.72740794,40.71939226,40.7451677,40.73226398,40.73704984,40.73532427,40.71427487,40.7390169121,40.72110063,40.76064679,40.71893904,40.7361967,40.75640548,40.74177603,40.71910537,40.75640548,40.740343200000005,40.746745000000004,40.720873600000004,40.71542197,40.770513,40.74487634,40.73221853,40.75756989999999,40.72110063,40.7489006,40.735238,40.73401143,40.75756989999999,40.75934501,40.75019995,40.72043411,40.770513,40.69760127,40.72953837,40.71870987,40.71602118,40.71602118,40.76095756,40.72740794,40.73971301,40.76590936,40.74345335,40.69236178,40.71559509,40.73047309,40.7454973,40.69196566,40.70823502,40.70224,40.75299641,40.73454567,40.73652889,40.75320159,40.73291553,40.76269882,40.74206539,40.74345335,40.7284186,40.71559509,40.72243797,40.73971301,40.749156,40.73047309,40.69089272,40.73416059,40.7047177,40.73038599,40.69239502,40.746745000000004,40.73912601,40.74394314,40.7454973,40.73401143,40.72019576,40.770513,40.71291224,40.71413089,40.71911552,40.69236178,40.74025878,40.71605866,40.73454567,40.73221853,40.71893904,40.75513557,40.73454567,40.722055,40.72779126,40.72066442,40.7149787,40.75645824,40.724399,40.75510267,40.71542197,40.70834698,40.73401143,40.73624527,40.74238787,40.74334935,40.734232,40.749156,40.75320159,40.74147286,40.746646999999996,40.75149263,40.73935542,40.74206539,40.74780373,40.68382604,40.69986937,40.75849116,40.74317449,40.74734825,40.71911552,40.7568001,40.73524276,40.70463334,40.73226398,40.74780373,40.72217444,40.74147286,40.72917025,40.74177603,40.74444921,40.711512,40.72938685,40.72228087,40.72955361,40.74206539,40.72779126,40.73971301,40.74691959,40.73028666,40.72066442,40.73543934,40.764397100000004,40.71910537,40.70530954,40.72228087,40.742354299999995,40.73726186,40.75714758,40.76590936,40.72938685,40.7462009,40.69196035,40.75645824,40.71622644,40.72165481,40.7405826,40.74395411,40.71542197,40.73649403,40.72217444,40.71893904,40.69424674,40.70834698,40.76370739,40.68683208,40.75001986,40.751551,40.71542197,40.76340613,40.746745000000004,40.75323098,40.73454567,40.736502,40.74345335,40.76344058,40.7218158,40.7568001,40.76030096,40.75929124,40.75513557,40.71307916,40.69788349,40.70251526,40.73223272,40.745712100000006,40.748238,40.73028666,40.73652889,40.71911552,40.71494807,40.71146364,40.73223272,40.69246277,40.70823502,40.72955361,40.74144387,40.73291553,40.71748752,40.739323,40.73261787,40.703799200000006,40.715815500000005,40.7172274,40.75640548,40.73726186,40.75466591,40.75513557,40.72019576,40.76461837,40.69239502,40.750072700000004,40.73028666,40.76370739,40.75466591,40.76341379,40.75038009,40.72490985,40.75455731,40.71291224,40.76340613,40.745712100000006,40.76461837,40.75097711,40.75001986,40.7451677,40.76009437,40.70955958,40.72243797,40.71273266,40.7462009,40.73221853,40.72229346,40.71273266,40.72580614,40.76095756,40.76344058,40.70277159,40.70224,40.75714758,40.71605866,40.75019995,40.69089272,40.74315566,40.715337899999994,40.70834698,40.75929124,40.73224119,40.76227205,40.68807003,40.71754834,40.746745000000004,40.76064679,40.73401143,40.73291553,40.75645824,40.74173969,40.72467721,40.74177603,40.75066386,40.73726186,40.72490985,40.71269042,40.74195138,40.746646999999996,40.76461837,40.70355377,40.76590936,40.71076228,40.7405826,40.71542197,40.73649403,40.72779126,40.7218158,40.70251526,40.76727216,40.74206539,40.72453734,40.76064679,40.746745000000004,40.71754834,40.68851534,40.726280700000004,40.72743423,40.73416059,40.73028666,40.75660359,40.75645824,40.72165481,40.70905623,40.76669671,40.72953837,40.71910537,40.7606597,40.71910537,40.746646999999996,40.72217444,40.74177603,40.72066442,40.76370739,40.74315566,40.739323,40.70905623,40.73912601,40.710451,40.73401143,40.68676793,40.740343200000005,40.72019576,40.75188406,40.764397100000004,40.72502876,40.7361967,40.69236178,40.70834698,40.73649403,40.76590936,40.72229346,40.72521311,40.726280700000004,40.75038009,40.75066386,40.72903917,40.76095756,40.76590936,40.72299208,40.73314259,40.742354299999995,40.75500254,40.74395411,40.70834698,40.71850211,40.745712100000006,40.68981035,40.72679454,40.76030096,40.740343200000005,40.71910537,40.74487634,40.76669671,40.71911552,40.74691959,40.71893904,40.74765947,40.72453734,40.7568001,40.703799200000006,40.72955361,40.73532427,40.69760127,40.75206862,40.71911552,40.724399,40.73912601,40.70706456,40.7546011026,40.72110063,40.75149263,40.76087502,40.7451677,40.7284186,40.72710258,40.75660359,40.75640548,40.715815500000005,40.75929124,40.72679454,40.71291224,40.75992262,40.69580705,40.693261,40.75929124,40.72229346,40.75640548,40.72453734,40.76695317,40.73704984,40.70463334,40.76087502,40.73454567,40.71754834,40.716887,40.71739973,40.70569254,40.70251526,40.7454973,40.726280700000004,40.73221853,40.73049393,40.734232,40.74195138,40.711512,40.74854862,40.7451677,40.74691959,40.75188406,40.722055,40.746745000000004,40.73221853,40.73028666,40.71743998,40.73454567,40.7284186,40.73704984,40.76590936,40.70355377,40.75500254,40.75149263,40.72490985,40.76227205,40.76019252,40.75645824,40.71910537,40.72779126,40.70706456,40.75044999,40.76087502,40.70823502,40.73649403,40.69788349,40.703799200000006,40.71911552,40.71291224,40.744219,40.72362738,40.74854862,40.74195138,40.68650065,40.72917025,40.70834698,40.75513557,40.71911552,40.74195138,40.72621788,40.73401143,40.75149263,40.75172632,40.71076228,40.71076228,40.715337899999994,40.72043411,40.74475148,40.770513,40.74315566,40.71269042,40.71939226,40.7652654,40.73726186,40.71939226,40.73624527,40.71173107,40.71743998,40.75466591,40.73587678,40.744219,40.76461837,40.72317958,40.74144387,40.73224119,40.74206539,40.76087502,40.7047177,40.71926081,40.75149263,40.72217444,40.71754834,40.71336124,40.74177603,40.71870987,40.749156,40.720873600000004,40.74395411,40.74395411,40.68382604,40.72743423,40.73704984,40.722055,40.73028666,40.76915505,40.76344058,40.73038599,40.73532427,40.68528172,40.71413089,40.71911552,40.70905623,40.70530954,40.74195138,40.71605866,40.70463334,40.764397100000004,40.728145,40.76341379,40.74317449,40.7606597,40.72467721,40.76915505,40.72317958,40.76095756,40.75714758,40.74206539,40.75971079999999,40.72368361,40.75019995,40.74394314,40.76461837,40.68807003,40.73047309,40.74901271,40.7149787,40.69089272,40.72467721,40.739323,40.70905623,40.75188406,40.73028666,40.76095756,40.75527307,40.751551,40.70255065,40.73912601,40.69788349,40.73172428,40.72743423,40.746745000000004,40.739323,40.70834698,40.764397100000004,40.76915505,40.70255065,40.71291224,40.72490985,40.710451,40.715337899999994,40.76584941,40.71782143,40.7454973,40.74691959,40.71911552,40.739323,40.71754834,40.74780373,40.75640548,40.75513557,40.7361967,40.74025878,40.71939226,40.76228826,40.76584941,40.71754834,40.73935542,40.74238787,40.74317449,40.70834698,40.72955361,40.74734825,40.70905623,40.68926942,40.73047747,40.75320159,40.7405826,40.76695317,40.75466591,40.715337899999994,40.72453734,40.75527307,40.68415748,40.73223272,40.70463334,40.76087502,40.746745000000004,40.71605866,40.76228826,40.68926942,40.70277159,40.71413089,40.73226398,40.739323,40.715337899999994,40.68312489,40.75527307,40.75188406,40.75513557,40.75594159,40.73524276,40.756014,40.76727216,40.76019252,40.750072700000004,40.73704984,40.73331967,40.76269882,40.7284186,40.71754834,40.696191999999996,40.715815500000005,40.76370739,40.717290000000006,40.75019995,40.69236178,40.72903917,40.746745000000004,40.739445,40.74780373,40.76590936,40.69331716,40.70251526,40.726280700000004,40.73454567,40.69178232,40.70251526,40.711512,40.768254,40.75188406,40.74395411,40.745712100000006,40.73535398,40.73226398,40.716887,40.74315566,40.71307916,40.72779126,40.71743998,40.70463334,40.74475148,40.74317449,40.724399,40.74147286,40.70530954,40.69165183,40.74394314,40.73224119,40.71754834,40.75044999,40.73827428,40.74195138,40.73331967,40.75645824,40.76340613,40.74238787,40.71754834,40.71893904,40.726280700000004,40.70905623,40.76228826,40.7047177,40.76095756,40.7606597,40.764397100000004,40.744219,40.73416059,40.72066442,40.70251526,40.751551,40.73624527,40.71754834,40.73223272,40.72938685,40.69788349,40.72710258,40.68312489,40.76915505,40.70569254,40.742354299999995,40.71754834,40.69165183,40.71754834,40.70037867,40.689888,40.74290902,40.73401143,40.73587678,40.74173969,40.7568001,40.69794,40.75645824,40.73291553,40.71893904,40.74334935,40.746745000000004,40.744219,40.75714758,40.73532427,40.75019995,40.770513,40.71739973,40.72165481,40.68382604,40.70255088,40.73649403,40.76915505,40.74444921,40.72679454,40.75044999,40.76340613,40.74475148,40.71870987,40.70569254,40.7390169121,40.70255088,40.740343200000005,40.75206862,40.68926942,40.76009437,40.687979,40.715337899999994,40.72490985,40.74173969,40.687979,40.74195138,40.75320159,40.75934501,40.72938685,40.7284186,40.746745000000004,40.71602118,40.69236178,40.739323,40.73291553,40.75044999,40.7390169121,40.71494807,40.70530954,40.73221853,40.7652654,40.76009437,40.75320159,40.74475148,40.73492695,40.74780373,40.69474881,40.76915505,40.73416059,40.72043411,40.736502,40.76669671,40.72317958,40.7454973,40.74147286,40.75594159,40.71559509,40.73226398,40.746745000000004,40.70827295,40.73172428,40.75660359,40.74173969,40.74475148,40.76009437,40.70530954,40.73047309,40.75323098,40.76340613,40.76269882,40.724399,40.73492695,40.73935542,40.72229346,40.72955361,40.76228826,40.7014851,40.74317449,40.72185379,40.74147286,40.68528172,40.751396,40.73532427,40.73416059,40.71911552,40.70905623,40.740343200000005,40.76695317,40.76095756,40.7568001,40.73331967,40.71625008,40.72710258,40.71413089,40.76344058,40.689888,40.76228826,40.76030096,40.71939226,40.734232,40.71291224,40.75097711,40.7606597,40.73704984,40.742354299999995,40.74334935,40.76020258,40.722055,40.75795248,40.76095756,40.73291553,40.7451677,40.74780373,40.7218158,40.70905623,40.7014851,40.76340613,40.687979,40.74238787,40.70251526,40.73912601,40.75044999,40.742354299999995,40.74144387,40.76095756,40.70706456,40.71911552,40.70277159,40.7652654,40.73492695,40.70834698,40.73492695,40.75320159,40.76370739,40.73221853,40.72743423,40.71273266,40.72066442,40.73543934,40.71622644,40.70717936,40.71542197,40.740343200000005,40.72229346,40.73704984,40.7149787,40.72873888,40.69196035,40.76669671,40.76669671,40.696191999999996,40.73416059,40.74177603,40.71146364,40.73401143,40.70717936,40.72405549,40.72873888]}},\"id\":\"48458940-60c3-4c06-8f9f-b3ff00e3ebc7\",\"type\":\"ColumnDataSource\"},{\"attributes\":{\"below\":[{\"id\":\"5b76ca90-52bc-4f13-8dde-4787e3644afd\",\"type\":\"LinearAxis\"}],\"left\":[{\"id\":\"e048ef97-4e8d-4e3e-b305-5ec9a1fa866b\",\"type\":\"LinearAxis\"}],\"min_border\":0,\"min_border_bottom\":0,\"min_border_left\":0,\"min_border_right\":0,\"min_border_top\":0,\"outline_line_color\":{\"value\":null},\"plot_height\":625,\"plot_width\":750,\"renderers\":[{\"id\":\"5b76ca90-52bc-4f13-8dde-4787e3644afd\",\"type\":\"LinearAxis\"},{\"id\":\"610e952a-a31d-4eb6-96dc-eaae26dea20b\",\"type\":\"Grid\"},{\"id\":\"e048ef97-4e8d-4e3e-b305-5ec9a1fa866b\",\"type\":\"LinearAxis\"},{\"id\":\"9e22e7d1-c338-4884-8eae-8353c232c2e6\",\"type\":\"Grid\"},{\"id\":\"c807ace9-d568-4e3e-9437-2fb5169d4629\",\"type\":\"TileRenderer\"},{\"id\":\"f91c6504-de8d-440e-b52c-f5eadf8c8675\",\"type\":\"GlyphRenderer\"}],\"title\":{\"id\":\"ebcd1d61-924f-4351-8e03-df311e0c4af7\",\"type\":\"Title\"},\"tool_events\":{\"id\":\"fe62f46b-ca73-4d64-be6e-a002f1a36186\",\"type\":\"ToolEvents\"},\"toolbar\":{\"id\":\"086bcef2-1277-4d64-b590-ad1d18ae08d2\",\"type\":\"Toolbar\"},\"x_range\":{\"id\":\"2750296a-825a-464b-8675-a7f2fddf9010\",\"type\":\"Range1d\"},\"y_range\":{\"id\":\"4d38a239-cb1d-4570-9047-b4c6063d4ac0\",\"type\":\"Range1d\"}},\"id\":\"b3616afb-c17e-454c-8483-577e8a7b9d23\",\"subtype\":\"Figure\",\"type\":\"Plot\"},{\"attributes\":{\"tile_source\":{\"id\":\"e25e247e-1ff0-475e-907b-5f6dc774609a\",\"type\":\"WMTSTileSource\"}},\"id\":\"c807ace9-d568-4e3e-9437-2fb5169d4629\",\"type\":\"TileRenderer\"},{\"attributes\":{},\"id\":\"19b9a847-f740-4c49-943a-f25cabef42bc\",\"type\":\"BasicTickFormatter\"},{\"attributes\":{\"plot\":{\"id\":\"b3616afb-c17e-454c-8483-577e8a7b9d23\",\"subtype\":\"Figure\",\"type\":\"Plot\"}},\"id\":\"ec65d2c3-60c5-4f63-a6c4-c1feeac287de\",\"type\":\"PanTool\"},{\"attributes\":{\"dimension\":1,\"grid_line_color\":{\"value\":null},\"plot\":{\"id\":\"b3616afb-c17e-454c-8483-577e8a7b9d23\",\"subtype\":\"Figure\",\"type\":\"Plot\"},\"ticker\":{\"id\":\"a849eb9d-2ae3-489c-ae46-d85576c551ad\",\"type\":\"BasicTicker\"}},\"id\":\"9e22e7d1-c338-4884-8eae-8353c232c2e6\",\"type\":\"Grid\"},{\"attributes\":{\"active_drag\":\"auto\",\"active_scroll\":\"auto\",\"active_tap\":\"auto\",\"tools\":[{\"id\":\"ec65d2c3-60c5-4f63-a6c4-c1feeac287de\",\"type\":\"PanTool\"},{\"id\":\"6fed247d-4bfc-4f09-a515-44d8bc439995\",\"type\":\"WheelZoomTool\"},{\"id\":\"81ebd701-7d33-4211-9793-b20ea30032be\",\"type\":\"ResetTool\"}]},\"id\":\"086bcef2-1277-4d64-b590-ad1d18ae08d2\",\"type\":\"Toolbar\"},{\"attributes\":{\"plot\":{\"id\":\"b3616afb-c17e-454c-8483-577e8a7b9d23\",\"subtype\":\"Figure\",\"type\":\"Plot\"}},\"id\":\"6fed247d-4bfc-4f09-a515-44d8bc439995\",\"type\":\"WheelZoomTool\"},{\"attributes\":{},\"id\":\"fe62f46b-ca73-4d64-be6e-a002f1a36186\",\"type\":\"ToolEvents\"},{\"attributes\":{\"attribution\":\"Map tiles by <a href=\\\"http://stamen.com\\\">Stamen Design</a>, under <a href=\\\"http://creativecommons.org/licenses/by/3.0\\\">CC BY 3.0</a>. Data by <a href=\\\"http://openstreetmap.org\\\">OpenStreetMap</a>, under <a href=\\\"http://creativecommons.org/licenses/by-sa/3.0\\\">CC BY SA</a>.\",\"url\":\"http://tile.stamen.com/terrain/{Z}/{X}/{Y}.png\"},\"id\":\"e25e247e-1ff0-475e-907b-5f6dc774609a\",\"type\":\"WMTSTileSource\"},{\"attributes\":{\"callback\":null,\"end\":-8210000,\"start\":-8242000},\"id\":\"2750296a-825a-464b-8675-a7f2fddf9010\",\"type\":\"Range1d\"},{\"attributes\":{\"formatter\":{\"id\":\"7ab081ad-9551-4249-8361-6a81965cd916\",\"type\":\"BasicTickFormatter\"},\"plot\":{\"id\":\"b3616afb-c17e-454c-8483-577e8a7b9d23\",\"subtype\":\"Figure\",\"type\":\"Plot\"},\"ticker\":{\"id\":\"ea4d3baa-1304-427e-a7f2-5315f9fcb7b8\",\"type\":\"BasicTicker\"},\"visible\":false},\"id\":\"5b76ca90-52bc-4f13-8dde-4787e3644afd\",\"type\":\"LinearAxis\"},{\"attributes\":{\"fill_color\":{\"value\":\"blue\"},\"line_color\":{\"value\":null},\"size\":{\"units\":\"screen\",\"value\":5},\"x\":{\"field\":\"x\"},\"y\":{\"field\":\"y\"}},\"id\":\"6e7e610d-5d9e-4fd1-a98c-9d4ac1e20d7a\",\"type\":\"Circle\"},{\"attributes\":{\"fill_alpha\":{\"value\":0.1},\"fill_color\":{\"value\":\"#1f77b4\"},\"line_alpha\":{\"value\":0.1},\"line_color\":{\"value\":\"#1f77b4\"},\"size\":{\"units\":\"screen\",\"value\":5},\"x\":{\"field\":\"x\"},\"y\":{\"field\":\"y\"}},\"id\":\"df98648f-cde2-4507-9ea4-aa552cc8bf62\",\"type\":\"Circle\"},{\"attributes\":{\"plot\":{\"id\":\"b3616afb-c17e-454c-8483-577e8a7b9d23\",\"subtype\":\"Figure\",\"type\":\"Plot\"}},\"id\":\"81ebd701-7d33-4211-9793-b20ea30032be\",\"type\":\"ResetTool\"},{\"attributes\":{},\"id\":\"a849eb9d-2ae3-489c-ae46-d85576c551ad\",\"type\":\"BasicTicker\"},{\"attributes\":{\"callback\":null,\"end\":4990000,\"start\":4965000},\"id\":\"4d38a239-cb1d-4570-9047-b4c6063d4ac0\",\"type\":\"Range1d\"},{\"attributes\":{\"plot\":null,\"text\":null},\"id\":\"ebcd1d61-924f-4351-8e03-df311e0c4af7\",\"type\":\"Title\"}],\"root_ids\":[\"b3616afb-c17e-454c-8483-577e8a7b9d23\"]},\"title\":\"Bokeh Application\",\"version\":\"0.12.2\"}};\n",
       "            var render_items = [{\"docid\":\"da2fe853-edd2-4c6a-b141-99c33e4a2e5a\",\"elementid\":\"c9b28732-dd31-47fd-932c-0376d88306d0\",\"modelid\":\"b3616afb-c17e-454c-8483-577e8a7b9d23\"}];\n",
       "            \n",
       "            Bokeh.embed.embed_items(docs_json, render_items);\n",
       "        });\n",
       "      },\n",
       "      function(Bokeh) {\n",
       "      }\n",
       "    ];\n",
       "  \n",
       "    function run_inline_js() {\n",
       "      \n",
       "      if ((window.Bokeh !== undefined) || (force === \"1\")) {\n",
       "        for (var i = 0; i < inline_js.length; i++) {\n",
       "          inline_js[i](window.Bokeh);\n",
       "        }if (force === \"1\") {\n",
       "          display_loaded();\n",
       "        }} else if (Date.now() < window._bokeh_timeout) {\n",
       "        setTimeout(run_inline_js, 100);\n",
       "      } else if (!window._bokeh_failed_load) {\n",
       "        console.log(\"Bokeh: BokehJS failed to load within specified timeout.\");\n",
       "        window._bokeh_failed_load = true;\n",
       "      } else if (!force) {\n",
       "        var cell = $(\"#c9b28732-dd31-47fd-932c-0376d88306d0\").parents('.cell').data().cell;\n",
       "        cell.output_area.append_execute_result(NB_LOAD_WARNING)\n",
       "      }\n",
       "  \n",
       "    }\n",
       "  \n",
       "    if (window._bokeh_is_loading === 0) {\n",
       "      console.log(\"Bokeh: BokehJS loaded, going straight to plotting\");\n",
       "      run_inline_js();\n",
       "    } else {\n",
       "      load_libs(js_urls, function() {\n",
       "        console.log(\"Bokeh: BokehJS plotting callback run at\", now());\n",
       "        run_inline_js();\n",
       "      });\n",
       "    }\n",
       "  }(this));\n",
       "</script>"
      ]
     },
     "metadata": {},
     "output_type": "display_data"
    }
   ],
   "source": [
    "# Load the map of NYC\n",
    "from bokeh.tile_providers import STAMEN_TERRAIN\n",
    "\n",
    "samples = data.sample(n=1000) # Sample 1000 datapoints in order to receive meaningful, uncluttered map.\n",
    "p = base_plot()\n",
    "p.add_tile(STAMEN_TERRAIN)\n",
    "p.circle(x=samples['start station longitude'], y=samples['start station latitude'], **options)\n",
    "show(p)\n"
   ]
  },
  {
   "cell_type": "markdown",
   "metadata": {},
   "source": [
    "We see that the coordinates must yet be recoded in Web Mercator, as right now our datapoints are being mapped on the equator near the coast of Gabon"
   ]
  },
  {
   "cell_type": "code",
   "execution_count": null,
   "metadata": {
    "collapsed": true
   },
   "outputs": [],
   "source": [
    "# To do: recode the coordinates in Web Mercator."
   ]
  }
 ],
 "metadata": {
  "anaconda-cloud": {},
  "kernelspec": {
   "display_name": "Python [conda root]",
   "language": "python",
   "name": "conda-root-py"
  },
  "language_info": {
   "codemirror_mode": {
    "name": "ipython",
    "version": 3
   },
   "file_extension": ".py",
   "mimetype": "text/x-python",
   "name": "python",
   "nbconvert_exporter": "python",
   "pygments_lexer": "ipython3",
   "version": "3.5.2"
  }
 },
 "nbformat": 4,
 "nbformat_minor": 1
}
